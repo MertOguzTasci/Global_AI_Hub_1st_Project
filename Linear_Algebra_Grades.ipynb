{
  "nbformat": 4,
  "nbformat_minor": 0,
  "metadata": {
    "colab": {
      "provenance": [],
      "collapsed_sections": [],
      "authorship_tag": "ABX9TyM2EQFdV3Zi5L8vPBGb0CkY",
      "include_colab_link": true
    },
    "kernelspec": {
      "name": "python3",
      "display_name": "Python 3"
    },
    "language_info": {
      "name": "python"
    }
  },
  "cells": [
    {
      "cell_type": "markdown",
      "metadata": {
        "id": "view-in-github",
        "colab_type": "text"
      },
      "source": [
        "<a href=\"https://colab.research.google.com/github/MertOguzTasci/Global_AI_Hub_1st_Project/blob/main/Linear_Algebra_Grades.ipynb\" target=\"_parent\"><img src=\"https://colab.research.google.com/assets/colab-badge.svg\" alt=\"Open In Colab\"/></a>"
      ]
    },
    {
      "cell_type": "code",
      "execution_count": null,
      "metadata": {
        "id": "Xat4TDFxNFDT"
      },
      "outputs": [],
      "source": [
        "import pandas as pd\n",
        "\n",
        "def calculate_grade(line):\n",
        "\n",
        "  line = line[:-1]\n",
        "  grade_list = line.split(\":\")\n",
        "  student_name = grade_list[0]\n",
        "  grades = grade_list[1].split(\",\")\n",
        "\n",
        "  midterm_1 = int(grades[1])\n",
        "  midterm_2 = int(grades[2])\n",
        "  final = int(grades[3])\n",
        "\n",
        "  average = midterm_1*0.3 + midterm_2*0.3 + final*0.4\n",
        "\n",
        "  if average >= 90 and average <= 100:\n",
        "      letter = \"AA -->passed\"\n",
        "  elif average >= 85 and average < 90:\n",
        "      letter = \"BA -->passed\"\n",
        "  elif average >= 80 and average < 85:\n",
        "      letter = \"BB -->passed\"\n",
        "  elif average >= 75 and average < 80:\n",
        "      letter = \"CB -->passed\"\n",
        "  elif average >= 70 and average < 75:\n",
        "      letter = \"CC -->passed\"\n",
        "  elif average >= 65 and average < 70:\n",
        "      letter = \"DC -->passed\"\n",
        "  elif average >= 60 and average < 65:\n",
        "      letter = \"DD -->passed\"\n",
        "  elif average >= 40 and average < 60:\n",
        "      letter = \"FD -->failed\"\n",
        "  else:\n",
        "      letter = \"FF -->failed\"\n",
        "\n",
        "  return student_name + \" - Linear Algebra Letter Grade \" + \":\" + letter + \"\\n\""
      ]
    },
    {
      "cell_type": "code",
      "source": [
        "def read_grades():\n",
        "  with open(\"Linear_Algebra_student_grades.txt\", \"r\", encoding=\"utf-8\") as file:\n",
        "    for line in file:\n",
        "      print(calculate_grade(line))"
      ],
      "metadata": {
        "id": "gkou3mXKPcvV"
      },
      "execution_count": null,
      "outputs": []
    },
    {
      "cell_type": "code",
      "source": [
        "def enter_grade():\n",
        "\n",
        "  name = input(\"Enter Student's Name: \")\n",
        "  surname = input(\"Enter Student's Surname: \")\n",
        "  student_id = input(\"Enter Student's ID \"\"\\n\")\n",
        "\n",
        "\n",
        "  midterm_1 = input(\"Enter first midterm result: \")\n",
        "  midterm_2 = input(\"Enter second midterm result:\")\n",
        "  final = input(\"Enter final result:\")\n",
        "\n",
        "  with open(\"Linear_Algebra_student_grades.txt\", \"a\", encoding=\"utf-8\") as file:\n",
        "    file.write(name + \" \" + surname + \":\" + student_id + \",\" + midterm_1 + \",\" + midterm_2 + \",\"+ final + \"\\n\")"
      ],
      "metadata": {
        "id": "IxEH2Ys3P8oN"
      },
      "execution_count": 9,
      "outputs": []
    },
    {
      "cell_type": "code",
      "source": [
        "def save_grade():\n",
        "  with open(\"Linear_Algebra_student_grades.txt\", \"r\", encoding=\"utf-8\") as file:\n",
        "    grade_list = []\n",
        "    for i in file:\n",
        "      grade_list.append(calculate_grade(i))\n",
        "\n",
        "  with open(\"Linear_Algebra_student_grades.txt\", \"w\", encoding=\"utf-8\") as file2:\n",
        "    for i in grade_list:\n",
        "      file2.write(i)"
      ],
      "metadata": {
        "id": "rTRJ353TTW9p"
      },
      "execution_count": 10,
      "outputs": []
    },
    {
      "cell_type": "code",
      "source": [
        "def create_frame():\n",
        "  with open(\"Linear_Algebra_student_grades.txt\", \"r\", encoding=\"utf-8\") as file:\n",
        "    data = pd.DataFrame(file)\n",
        "    print(data)"
      ],
      "metadata": {
        "id": "ALFoxzklT3qE"
      },
      "execution_count": 12,
      "outputs": []
    },
    {
      "cell_type": "code",
      "source": [
        "def create_excel():\n",
        "  with open(\"Linear_Algebra_student_grades.txt\", \"r\", encoding=\"utf-8\") as file:\n",
        "    data = pd.DataFrame(file)\n",
        "    data.to_excel(\"Linear_Algebra_student_grades.xlsx\")\n"
      ],
      "metadata": {
        "id": "tUGXWoEAUF35"
      },
      "execution_count": 14,
      "outputs": []
    },
    {
      "cell_type": "code",
      "source": [
        "while True:\n",
        "    choice = input(\n",
        "        \"\\n\"\"***********Please choose an operation***********\\n\"\"1- Enter Grade\\n2- Show Grades\\n3- Save Grades\\n4- Show as Data Frame\\n5- Tranform it to Excel\\n6- Log Out \\n\\n\")\n",
        "\n",
        "    if int(choice) == 1:\n",
        "        enter_grade()\n",
        "\n",
        "    elif int(choice) == 2:\n",
        "        read_grades()\n",
        "    elif int(choice) == 3:\n",
        "        save_grade()\n",
        "        print(\"GRADES ARE SAVED\"\"\\n\")\n",
        "\n",
        "    elif int(choice) == 4:\n",
        "        create_frame()\n",
        "\n",
        "    elif int(choice) == 5:\n",
        "        create_excel()\n",
        "\n",
        "    else:\n",
        "        print(\"\\n\"\"LOGGED OUT OF THE SYSTEM.\")\n",
        "        break"
      ],
      "metadata": {
        "id": "k4MW7oO0UXZ9"
      },
      "execution_count": null,
      "outputs": []
    }
  ]
}